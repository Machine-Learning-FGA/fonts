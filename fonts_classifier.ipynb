{
 "cells": [
  {
   "cell_type": "markdown",
   "metadata": {},
   "source": [
    "# Classificando letras em determinadas fontes"
   ]
  },
  {
   "cell_type": "markdown",
   "metadata": {},
   "source": [
    "## Extração dos CSVs do arquivo .zip"
   ]
  },
  {
   "cell_type": "code",
   "execution_count": null,
   "metadata": {},
   "outputs": [],
   "source": [
    "with zipfile.ZipFile(\"fonts.zip\") as fonts_zip:\n",
    "    csv_files = fonts_zip.namelist()\n",
    "    x = pd.DataFrame()\n",
    "    fonts_list = {}\n",
    "    for csv in csv_files:\n",
    "        font = fonts_zip.open(csv)\n",
    "        size = font.read()\n",
    "        fonts_list[font] = sys.getsizeof(size)"
   ]
  },
  {
   "cell_type": "markdown",
   "metadata": {},
   "source": [
    "Neste trecho, ordenamos os arquivos por quantidade de linhas de maneira decrescente. Utilizamos para a análise do problema, 5 arquivos, cada um contendo letras de um determinado tipo de fonte.\n",
    "\n"
   ]
  },
  {
   "cell_type": "code",
   "execution_count": null,
   "metadata": {},
   "outputs": [],
   "source": [
    "        sorted_list = sorted(fonts_list.items(), key=operator.itemgetter(1), reverse=True)\n",
    "        chosen_ones = sorted_list[:5]\n",
    "        fonts_list = []"
   ]
  },
  {
   "cell_type": "markdown",
   "metadata": {},
   "source": [
    "Após ordenar, pegamos o nome de todas as fontes escolhidas e lemos 5000 linhas de seus respectivos CSVs."
   ]
  },
  {
   "cell_type": "code",
   "execution_count": null,
   "metadata": {},
   "outputs": [],
   "source": [
    "    for font in chosen_ones:\n",
    "        font = fonts_zip.open(font[0].name)\n",
    "        df = pd.read_csv(font, index_col=None, header=0, nrows=5000)\n",
    "        fonts_list.append(df)\n",
    "    x = pd.concat(fonts_list)"
   ]
  },
  {
   "cell_type": "markdown",
   "metadata": {},
   "source": [
    "## Construção da solução"
   ]
  },
  {
   "cell_type": "markdown",
   "metadata": {},
   "source": [
    "Neste ponto, armazenamos a coluna 'fonts', que contem os nomes das fontes em y_aux, ou seja, suas <i><b>labels</b></i> e retiramos as colunas que são \n",
    "irrelevantes para nossa solução."
   ]
  },
  {
   "cell_type": "code",
   "execution_count": null,
   "metadata": {},
   "outputs": [],
   "source": [
    "y_aux = x[['font']]\n",
    "x.drop(\"h\", axis=1, inplace=True)\n",
    "x.drop(\"w\", axis=1, inplace=True)\n",
    "x.drop('font', axis=1, inplace=True)\n",
    "x.drop('fontVariant', axis=1, inplace=True)\n"
   ]
  },
  {
   "cell_type": "markdown",
   "metadata": {},
   "source": [
    "Em seguida trasnformamos as <i><b>labels</b></i> armarzenadas em inteiros e  separamos 30% de cada CSVs para treinamento do algoritmo. "
   ]
  },
  {
   "cell_type": "code",
   "execution_count": null,
   "metadata": {},
   "outputs": [],
   "source": [
    "y = y_aux.apply(LabelEncoder().fit_transform)\n",
    "x_treino, x_teste, y_treino, y_teste = train_test_split(x, y, test_size=0.3, random_state=42)\n"
   ]
  },
  {
   "cell_type": "markdown",
   "metadata": {},
   "source": [
    "É após esta divisão que escolhemos o algoritmo utilizado para predição e \n",
    "executamos a mesma. Abaixo estarão exemplos de código utilizando a \n",
    "<i><b>Decision Tree</b></i> e <i><b>KNN</b></i>."
   ]
  },
  {
   "cell_type": "markdown",
   "metadata": {},
   "source": [
    "### Decision Tree"
   ]
  },
  {
   "cell_type": "code",
   "execution_count": null,
   "metadata": {},
   "outputs": [],
   "source": [
    "clf = tree.DecisionTreeClassifier()\n",
    "clf.fit(x_treino, y_treino)\n",
    "predictions = clf.predict(x_teste)\n",
    "print(accuracy_score(y_teste, predictions))"
   ]
  },
  {
   "cell_type": "markdown",
   "metadata": {},
   "source": [
    "### KNN"
   ]
  },
  {
   "cell_type": "code",
   "execution_count": null,
   "metadata": {},
   "outputs": [],
   "source": [
    "for i in range(4, 8):\n",
    "    knn = KNeighborsClassifier(n_neighbors=i)\n",
    "    knn.fit(x_treino, y_treino.values.ravel())\n",
    "    print(\"Knn with \" + str(i) + \" neighbors\")\n",
    "print(knn.score(x_teste, y_teste))"
   ]
  }
 ],
 "metadata": {
  "kernelspec": {
   "display_name": "Python 3",
   "language": "python",
   "name": "python3"
  },
  "language_info": {
   "codemirror_mode": {
    "name": "ipython",
    "version": 3
   },
   "file_extension": ".py",
   "mimetype": "text/x-python",
   "name": "python",
   "nbconvert_exporter": "python",
   "pygments_lexer": "ipython3",
   "version": "3.6.3"
  }
 },
 "nbformat": 4,
 "nbformat_minor": 2
}
