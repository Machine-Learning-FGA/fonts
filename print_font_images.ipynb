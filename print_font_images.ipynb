{
 "cells": [
  {
   "cell_type": "code",
   "execution_count": 1,
   "metadata": {},
   "outputs": [],
   "source": [
    "import pandas as pd"
   ]
  },
  {
   "cell_type": "code",
   "execution_count": 2,
   "metadata": {},
   "outputs": [],
   "source": [
    "import numpy as np"
   ]
  },
  {
   "cell_type": "code",
   "execution_count": 3,
   "metadata": {},
   "outputs": [],
   "source": [
    "import matplotlib.pyplot as plt"
   ]
  },
  {
   "cell_type": "code",
   "execution_count": 4,
   "metadata": {},
   "outputs": [],
   "source": [
    "csv = pd.read_csv(\"./BOOK.csv\")"
   ]
  },
  {
   "cell_type": "markdown",
   "metadata": {},
   "source": [
    "Apply some sweet filter"
   ]
  },
  {
   "cell_type": "code",
   "execution_count": 5,
   "metadata": {},
   "outputs": [],
   "source": [
    "csv = csv.query(\"strength==0.4 and italic==0.0 and orientation==0.0\")"
   ]
  },
  {
   "cell_type": "markdown",
   "metadata": {},
   "source": [
    "Remove non image fields"
   ]
  },
  {
   "cell_type": "code",
   "execution_count": 6,
   "metadata": {},
   "outputs": [],
   "source": [
    "# the \"if\" is because jupyter is being a bitch with its cache...\n",
    "csv.drop(\"font\", axis=1, inplace=True) if \"font\" in csv else ...\n",
    "csv.drop(\"fontVariant\", axis=1, inplace=True) if \"fontVariant\" in csv else ...\n",
    "csv.drop(\"strength\", axis=1, inplace=True) if \"strength\" in csv else ...\n",
    "csv.drop(\"italic\", axis=1, inplace=True) if \"italic\" in csv else ...\n",
    "csv.drop(\"orientation\", axis=1, inplace=True) if \"orientation\" in csv else ...\n",
    "csv.drop(\"m_top\", axis=1, inplace=True) if \"m_top\" in csv else ...\n",
    "csv.drop(\"m_left\", axis=1, inplace=True) if \"m_left\" in csv else ...\n",
    "csv.drop(\"italic\", axis=1, inplace=True) if \"italic\" in csv else ...\n",
    "csv.drop(\"originalH\", axis=1, inplace=True) if \"originalH\" in csv else ...\n",
    "csv.drop(\"originalW\", axis=1, inplace=True) if \"originalW\" in csv else ...\n",
    "csv.drop(\"h\", axis=1, inplace=True) if \"h\" in csv else ...\n",
    "csv.drop(\"w\", axis=1, inplace=True) if \"w\" in csv else ..."
   ]
  },
  {
   "cell_type": "markdown",
   "metadata": {},
   "source": [
    "Extract labels and features"
   ]
  },
  {
   "cell_type": "code",
   "execution_count": 7,
   "metadata": {},
   "outputs": [],
   "source": [
    "labels = csv['m_label']\n",
    "csv.drop(\"m_label\", axis=1, inplace=True) if \"m_label\" in csv else ..."
   ]
  },
  {
   "cell_type": "code",
   "execution_count": 8,
   "metadata": {},
   "outputs": [],
   "source": [
    "features = csv.as_matrix()\n",
    "features = (features - 255) * -1"
   ]
  },
  {
   "cell_type": "markdown",
   "metadata": {},
   "source": [
    "Ploting a single row to check"
   ]
  },
  {
   "cell_type": "code",
   "execution_count": 10,
   "metadata": {},
   "outputs": [
    {
     "data": {
      "image/png": "[encoded data removed]",
      "text/plain": [
       "<Figure size 432x288 with 1 Axes>"
      ]
     },
     "metadata": {},
     "output_type": "display_data"
    }
   ],
   "source": [
    "single_row = np.array(features[0:1][0])\n",
    "single_row = single_row.reshape((20, 20))\n",
    "plt.imshow(single_row, cmap='gray', interpolation='nearest')\n",
    "plt.show()"
   ]
  },
  {
   "cell_type": "code",
   "execution_count": null,
   "metadata": {},
   "outputs": [],
   "source": []
  }
 ],
 "metadata": {
  "kernelspec": {
   "display_name": "Python 3",
   "language": "python",
   "name": "python3"
  },
  "language_info": {
   "codemirror_mode": {
    "name": "ipython",
    "version": 3
   },
   "file_extension": ".py",
   "mimetype": "text/x-python",
   "name": "python",
   "nbconvert_exporter": "python",
   "pygments_lexer": "ipython3",
   "version": "3.5.2"
  }
 },
 "nbformat": 4,
 "nbformat_minor": 2
}
